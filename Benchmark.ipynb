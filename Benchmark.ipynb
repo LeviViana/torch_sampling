{
 "cells": [
  {
   "cell_type": "code",
   "execution_count": 1,
   "metadata": {},
   "outputs": [],
   "source": [
    "import torch\n",
    "import matplotlib.pyplot as plt\n",
    "import numpy as np\n",
    "from torch_sampling import choice"
   ]
  },
  {
   "cell_type": "markdown",
   "metadata": {},
   "source": [
    "# Checking non-contiguous tensors"
   ]
  },
  {
   "cell_type": "code",
   "execution_count": 2,
   "metadata": {},
   "outputs": [
    {
     "name": "stdout",
     "output_type": "stream",
     "text": [
      "True\n",
      "False\n"
     ]
    }
   ],
   "source": [
    "x = torch.arange(10)\n",
    "y = x[::3]\n",
    "for t in [x, y]:\n",
    "    print(t.is_contiguous())"
   ]
  },
  {
   "cell_type": "code",
   "execution_count": 3,
   "metadata": {},
   "outputs": [
    {
     "name": "stdout",
     "output_type": "stream",
     "text": [
      "Sampling with replacement:\n",
      "tensor([3, 3, 9])\n",
      "tensor([3, 9, 3])\n",
      "tensor([3, 9, 3])\n",
      "tensor([0, 3, 6])\n",
      "tensor([9, 3, 6])\n",
      "Sampling without replacement:\n",
      "tensor([0, 3, 6])\n",
      "tensor([0, 3, 6])\n",
      "tensor([0, 3, 6])\n",
      "tensor([0, 3, 9])\n",
      "tensor([0, 3, 9])\n"
     ]
    }
   ],
   "source": [
    "k=3\n",
    "print(\"Sampling with replacement:\")\n",
    "for _ in range(5):\n",
    "    print(choice(y, k, True))\n",
    "print(\"Sampling without replacement:\")\n",
    "for _ in range(5):\n",
    "    print(choice(y, k, False))"
   ]
  },
  {
   "cell_type": "code",
   "execution_count": 4,
   "metadata": {},
   "outputs": [
    {
     "name": "stdout",
     "output_type": "stream",
     "text": [
      "True\n",
      "False\n"
     ]
    }
   ],
   "source": [
    "x = torch.arange(10).cuda()\n",
    "y = x[::3]\n",
    "for t in [x, y]:\n",
    "    print(t.is_contiguous())"
   ]
  },
  {
   "cell_type": "code",
   "execution_count": 5,
   "metadata": {},
   "outputs": [
    {
     "name": "stdout",
     "output_type": "stream",
     "text": [
      "Sampling with replacement:\n",
      "tensor([0, 0, 9], device='cuda:0')\n",
      "tensor([3, 3, 9], device='cuda:0')\n",
      "tensor([3, 6, 6], device='cuda:0')\n",
      "tensor([0, 3, 9], device='cuda:0')\n",
      "tensor([3, 0, 9], device='cuda:0')\n",
      "Sampling without replacement:\n",
      "tensor([0, 3, 6], device='cuda:0')\n",
      "tensor([9, 3, 6], device='cuda:0')\n",
      "tensor([0, 3, 9], device='cuda:0')\n",
      "tensor([0, 9, 6], device='cuda:0')\n",
      "tensor([0, 3, 9], device='cuda:0')\n"
     ]
    }
   ],
   "source": [
    "k=3\n",
    "print(\"Sampling with replacement:\")\n",
    "for _ in range(5):\n",
    "    print(choice(y, k, True))\n",
    "print(\"Sampling without replacement:\")\n",
    "for _ in range(5):\n",
    "    print(choice(y, k, False))"
   ]
  },
  {
   "cell_type": "markdown",
   "metadata": {},
   "source": [
    "# Checking determinism"
   ]
  },
  {
   "cell_type": "code",
   "execution_count": 6,
   "metadata": {},
   "outputs": [
    {
     "name": "stdout",
     "output_type": "stream",
     "text": [
      "tensor([5, 1, 6])\n",
      "tensor([5, 1, 6])\n",
      "tensor([5, 1, 6])\n",
      "tensor([5, 1, 6])\n",
      "tensor([5, 1, 6])\n"
     ]
    }
   ],
   "source": [
    "x = torch.arange(10)\n",
    "k=3\n",
    "for _ in range(5):\n",
    "    torch.manual_seed(1234)\n",
    "    print(choice(x, k, True))"
   ]
  },
  {
   "cell_type": "code",
   "execution_count": 7,
   "metadata": {},
   "outputs": [
    {
     "name": "stdout",
     "output_type": "stream",
     "text": [
      "tensor([5, 1, 9], device='cuda:0')\n",
      "tensor([5, 1, 9], device='cuda:0')\n",
      "tensor([5, 1, 9], device='cuda:0')\n",
      "tensor([5, 1, 9], device='cuda:0')\n",
      "tensor([5, 1, 9], device='cuda:0')\n"
     ]
    }
   ],
   "source": [
    "x = torch.arange(10).cuda()\n",
    "for _ in range(5):\n",
    "    torch.manual_seed(1234)\n",
    "    print(choice(x, k, True))"
   ]
  },
  {
   "cell_type": "markdown",
   "metadata": {},
   "source": [
    "# Benchmarks against NumPy - Uniform"
   ]
  },
  {
   "cell_type": "code",
   "execution_count": 8,
   "metadata": {},
   "outputs": [],
   "source": [
    "x = torch.arange(10**4)\n",
    "x_np = x.numpy()"
   ]
  },
  {
   "cell_type": "code",
   "execution_count": 9,
   "metadata": {},
   "outputs": [
    {
     "name": "stdout",
     "output_type": "stream",
     "text": [
      "95.4 µs ± 489 ns per loop (mean ± std. dev. of 7 runs, 10000 loops each)\n",
      "126 µs ± 1.16 µs per loop (mean ± std. dev. of 7 runs, 10000 loops each)\n",
      "48.4 µs ± 675 ns per loop (mean ± std. dev. of 7 runs, 10000 loops each)\n",
      "138 µs ± 1.42 µs per loop (mean ± std. dev. of 7 runs, 10000 loops each)\n"
     ]
    }
   ],
   "source": [
    "k=9000\n",
    "%timeit choice(x, k, True)\n",
    "%timeit np.random.choice(x_np, k, True)\n",
    "%timeit choice(x, k, False)\n",
    "%timeit np.random.choice(x_np, k, False)"
   ]
  },
  {
   "cell_type": "code",
   "execution_count": 10,
   "metadata": {},
   "outputs": [
    {
     "name": "stdout",
     "output_type": "stream",
     "text": [
      "5.71 µs ± 15.9 ns per loop (mean ± std. dev. of 7 runs, 100000 loops each)\n",
      "17.3 µs ± 73.2 ns per loop (mean ± std. dev. of 7 runs, 100000 loops each)\n",
      "14.4 µs ± 102 ns per loop (mean ± std. dev. of 7 runs, 100000 loops each)\n",
      "130 µs ± 2.07 µs per loop (mean ± std. dev. of 7 runs, 10000 loops each)\n"
     ]
    }
   ],
   "source": [
    "k=100\n",
    "%timeit choice(x, k, True)\n",
    "%timeit np.random.choice(x_np, k, True)\n",
    "%timeit choice(x, k, False)\n",
    "%timeit np.random.choice(x_np, k, False)"
   ]
  },
  {
   "cell_type": "code",
   "execution_count": 11,
   "metadata": {},
   "outputs": [
    {
     "name": "stdout",
     "output_type": "stream",
     "text": [
      "53.2 µs ± 1.42 µs per loop (mean ± std. dev. of 7 runs, 10000 loops each)\n",
      "71.9 µs ± 152 ns per loop (mean ± std. dev. of 7 runs, 10000 loops each)\n",
      "72.5 µs ± 93.6 ns per loop (mean ± std. dev. of 7 runs, 10000 loops each)\n",
      "71.7 µs ± 258 ns per loop (mean ± std. dev. of 7 runs, 10000 loops each)\n"
     ]
    }
   ],
   "source": [
    "k=4500\n",
    "%timeit choice(x, k, True)\n",
    "%timeit np.random.choice(x_np, k, True)\n",
    "%timeit choice(x, k, False)\n",
    "%timeit np.random.choice(x_np, k, True)"
   ]
  },
  {
   "cell_type": "markdown",
   "metadata": {},
   "source": [
    "# Benchmarks against NumPy - Weighted"
   ]
  },
  {
   "cell_type": "code",
   "execution_count": 12,
   "metadata": {},
   "outputs": [],
   "source": [
    "weights = torch.rand(10**4)\n",
    "weights /= weights.sum()\n",
    "weights_np = weights.numpy()"
   ]
  },
  {
   "cell_type": "code",
   "execution_count": 13,
   "metadata": {},
   "outputs": [
    {
     "name": "stdout",
     "output_type": "stream",
     "text": [
      "773 µs ± 1.3 µs per loop (mean ± std. dev. of 7 runs, 1000 loops each)\n",
      "872 µs ± 1.14 µs per loop (mean ± std. dev. of 7 runs, 1000 loops each)\n",
      "373 µs ± 999 ns per loop (mean ± std. dev. of 7 runs, 1000 loops each)\n",
      "2.92 ms ± 6.24 µs per loop (mean ± std. dev. of 7 runs, 100 loops each)\n"
     ]
    }
   ],
   "source": [
    "k=9000\n",
    "%timeit choice(x, k, True, weights)\n",
    "%timeit np.random.choice(x_np, k, True, weights_np)\n",
    "%timeit choice(x, k, False, weights)\n",
    "%timeit np.random.choice(x_np, k, False, weights_np)"
   ]
  },
  {
   "cell_type": "code",
   "execution_count": 14,
   "metadata": {},
   "outputs": [
    {
     "name": "stdout",
     "output_type": "stream",
     "text": [
      "407 µs ± 4.78 µs per loop (mean ± std. dev. of 7 runs, 1000 loops each)\n",
      "495 µs ± 8.65 µs per loop (mean ± std. dev. of 7 runs, 1000 loops each)\n",
      "295 µs ± 600 ns per loop (mean ± std. dev. of 7 runs, 1000 loops each)\n",
      "1.27 ms ± 4.14 µs per loop (mean ± std. dev. of 7 runs, 1000 loops each)\n"
     ]
    }
   ],
   "source": [
    "k=4500\n",
    "%timeit choice(x, k, True, weights)\n",
    "%timeit np.random.choice(x_np, k, True, weights_np)\n",
    "%timeit choice(x, k, False, weights)\n",
    "%timeit np.random.choice(x_np, k, False, weights_np)"
   ]
  },
  {
   "cell_type": "code",
   "execution_count": 15,
   "metadata": {},
   "outputs": [
    {
     "name": "stdout",
     "output_type": "stream",
     "text": [
      "43.7 µs ± 536 ns per loop (mean ± std. dev. of 7 runs, 10000 loops each)\n",
      "110 µs ± 903 ns per loop (mean ± std. dev. of 7 runs, 10000 loops each)\n",
      "235 µs ± 3.67 µs per loop (mean ± std. dev. of 7 runs, 1000 loops each)\n",
      "172 µs ± 2.3 µs per loop (mean ± std. dev. of 7 runs, 10000 loops each)\n"
     ]
    }
   ],
   "source": [
    "k=100\n",
    "%timeit choice(x, k, True, weights)\n",
    "%timeit np.random.choice(x_np, k, True, weights_np)\n",
    "%timeit choice(x, k, False, weights)\n",
    "%timeit np.random.choice(x_np, k, False, weights_np)"
   ]
  },
  {
   "cell_type": "markdown",
   "metadata": {},
   "source": [
    "# Check performance for multi-d tensors"
   ]
  },
  {
   "cell_type": "code",
   "execution_count": 16,
   "metadata": {},
   "outputs": [],
   "source": [
    "x = torch.arange(10**4).view(-1, 2)\n",
    "n = x.size(0)\n",
    "k = 3\n",
    "idx = torch.arange(n)"
   ]
  },
  {
   "cell_type": "code",
   "execution_count": 17,
   "metadata": {},
   "outputs": [
    {
     "name": "stdout",
     "output_type": "stream",
     "text": [
      "70.8 µs ± 1.88 µs per loop (mean ± std. dev. of 7 runs, 10000 loops each)\n",
      "12.1 µs ± 103 ns per loop (mean ± std. dev. of 7 runs, 100000 loops each)\n",
      "19 µs ± 172 ns per loop (mean ± std. dev. of 7 runs, 100000 loops each)\n"
     ]
    }
   ],
   "source": [
    "%timeit x[torch.randperm(n)[:k]]\n",
    "%timeit x[choice(idx, k, True)]\n",
    "%timeit x[choice(idx, k, False)]"
   ]
  },
  {
   "cell_type": "markdown",
   "metadata": {},
   "source": [
    "# Checking the performance"
   ]
  },
  {
   "cell_type": "code",
   "execution_count": 18,
   "metadata": {},
   "outputs": [],
   "source": [
    "x = torch.arange(10**4)"
   ]
  },
  {
   "cell_type": "markdown",
   "metadata": {},
   "source": [
    "# Case 1: k big"
   ]
  },
  {
   "cell_type": "code",
   "execution_count": 19,
   "metadata": {},
   "outputs": [
    {
     "name": "stdout",
     "output_type": "stream",
     "text": [
      "95.4 µs ± 75.5 ns per loop (mean ± std. dev. of 7 runs, 10000 loops each)\n",
      "45.8 µs ± 56.6 ns per loop (mean ± std. dev. of 7 runs, 10000 loops each)\n",
      "167 µs ± 3.14 µs per loop (mean ± std. dev. of 7 runs, 10000 loops each)\n"
     ]
    }
   ],
   "source": [
    "k = 9000\n",
    "%timeit choice(x, k, True)\n",
    "%timeit choice(x, k, False)\n",
    "%timeit x[torch.randperm(x.numel())[:k]]"
   ]
  },
  {
   "cell_type": "markdown",
   "metadata": {},
   "source": [
    "# Case 2: k small"
   ]
  },
  {
   "cell_type": "code",
   "execution_count": 20,
   "metadata": {},
   "outputs": [
    {
     "name": "stdout",
     "output_type": "stream",
     "text": [
      "5.79 µs ± 5.46 ns per loop (mean ± std. dev. of 7 runs, 100000 loops each)\n",
      "14.3 µs ± 16.1 ns per loop (mean ± std. dev. of 7 runs, 100000 loops each)\n",
      "130 µs ± 209 ns per loop (mean ± std. dev. of 7 runs, 10000 loops each)\n"
     ]
    }
   ],
   "source": [
    "k = 100\n",
    "%timeit choice(x, k, True)\n",
    "%timeit choice(x, k, False)\n",
    "%timeit x[torch.randperm(x.numel())[:k]]"
   ]
  },
  {
   "cell_type": "markdown",
   "metadata": {},
   "source": [
    "# Case 3: k medium"
   ]
  },
  {
   "cell_type": "code",
   "execution_count": 21,
   "metadata": {},
   "outputs": [
    {
     "name": "stdout",
     "output_type": "stream",
     "text": [
      "52.5 µs ± 32.5 ns per loop (mean ± std. dev. of 7 runs, 10000 loops each)\n",
      "72.9 µs ± 681 ns per loop (mean ± std. dev. of 7 runs, 10000 loops each)\n",
      "151 µs ± 389 ns per loop (mean ± std. dev. of 7 runs, 10000 loops each)\n"
     ]
    }
   ],
   "source": [
    "k = 4500\n",
    "%timeit choice(x, k, True)\n",
    "%timeit choice(x, k, False)\n",
    "%timeit x[torch.randperm(x.numel())[:k]]"
   ]
  },
  {
   "cell_type": "markdown",
   "metadata": {},
   "source": [
    "# CUDA vs CPU"
   ]
  },
  {
   "cell_type": "code",
   "execution_count": 22,
   "metadata": {},
   "outputs": [],
   "source": [
    "x_cpu = torch.arange(10**7)\n",
    "x_cuda = x_cpu.cuda()\n",
    "k = 10**4"
   ]
  },
  {
   "cell_type": "code",
   "execution_count": 23,
   "metadata": {},
   "outputs": [
    {
     "name": "stdout",
     "output_type": "stream",
     "text": [
      "208 µs ± 1.61 µs per loop (mean ± std. dev. of 7 runs, 1000 loops each)\n",
      "27.1 µs ± 269 ns per loop (mean ± std. dev. of 7 runs, 10000 loops each)\n"
     ]
    }
   ],
   "source": [
    "%timeit choice(x_cpu, k, True)\n",
    "%timeit choice(x_cuda, k, True);torch.cuda.synchronize()"
   ]
  },
  {
   "cell_type": "code",
   "execution_count": 24,
   "metadata": {},
   "outputs": [
    {
     "name": "stdout",
     "output_type": "stream",
     "text": [
      "6.87 ms ± 124 µs per loop (mean ± std. dev. of 7 runs, 100 loops each)\n",
      "3.33 ms ± 2 µs per loop (mean ± std. dev. of 7 runs, 100 loops each)\n"
     ]
    }
   ],
   "source": [
    "%timeit choice(x_cpu, k, False)\n",
    "%timeit choice(x_cuda, k, False);torch.cuda.synchronize()"
   ]
  },
  {
   "cell_type": "code",
   "execution_count": 25,
   "metadata": {},
   "outputs": [],
   "source": [
    "weights_cpu = torch.ones(10**7).double()\n",
    "weights_cuda = weights_cpu.cuda()"
   ]
  },
  {
   "cell_type": "code",
   "execution_count": 26,
   "metadata": {},
   "outputs": [
    {
     "name": "stdout",
     "output_type": "stream",
     "text": [
      "335 ms ± 4.31 ms per loop (mean ± std. dev. of 7 runs, 1 loop each)\n",
      "84 ms ± 618 µs per loop (mean ± std. dev. of 7 runs, 10 loops each)\n"
     ]
    }
   ],
   "source": [
    "%timeit choice(x_cpu, k, False, weights_cpu)\n",
    "%timeit choice(x_cuda, k, False, weights_cuda);torch.cuda.synchronize()"
   ]
  },
  {
   "cell_type": "markdown",
   "metadata": {},
   "source": [
    "# Checking distributions - Uniform"
   ]
  },
  {
   "cell_type": "code",
   "execution_count": 27,
   "metadata": {},
   "outputs": [],
   "source": [
    "x = torch.arange(10)"
   ]
  },
  {
   "cell_type": "markdown",
   "metadata": {},
   "source": [
    "### CPP Extension"
   ]
  },
  {
   "cell_type": "code",
   "execution_count": 28,
   "metadata": {},
   "outputs": [
    {
     "data": {
      "image/png": "[encoded data removed]",
      "text/plain": [
       "<Figure size 432x288 with 1 Axes>"
      ]
     },
     "metadata": {
      "needs_background": "light"
     },
     "output_type": "display_data"
    }
   ],
   "source": [
    "k = 8\n",
    "samples = []\n",
    "for _ in range(1000):\n",
    "    samples.extend(choice(x, k, True).numpy())\n",
    "plt.hist(samples)\n",
    "plt.xticks(range(x.numel()))\n",
    "plt.show()"
   ]
  },
  {
   "cell_type": "code",
   "execution_count": 29,
   "metadata": {},
   "outputs": [
    {
     "data": {
      "image/png": "[encoded data removed]",
      "text/plain": [
       "<Figure size 432x288 with 1 Axes>"
      ]
     },
     "metadata": {
      "needs_background": "light"
     },
     "output_type": "display_data"
    }
   ],
   "source": [
    "k = 8\n",
    "samples = []\n",
    "for _ in range(1000):\n",
    "    samples.extend(choice(x, k, False).numpy())\n",
    "plt.hist(samples)\n",
    "plt.xticks(range(x.numel()))\n",
    "plt.show()"
   ]
  },
  {
   "cell_type": "code",
   "execution_count": 30,
   "metadata": {},
   "outputs": [
    {
     "data": {
      "image/png": "[encoded data removed]",
      "text/plain": [
       "<Figure size 432x288 with 1 Axes>"
      ]
     },
     "metadata": {
      "needs_background": "light"
     },
     "output_type": "display_data"
    }
   ],
   "source": [
    "k = 2\n",
    "samples = []\n",
    "for _ in range(1000):\n",
    "    samples.extend(choice(x, k, True).numpy())\n",
    "plt.hist(samples)\n",
    "plt.xticks(range(x.numel()))\n",
    "plt.show()"
   ]
  },
  {
   "cell_type": "code",
   "execution_count": 31,
   "metadata": {},
   "outputs": [
    {
     "data": {
      "image/png": "[encoded data removed]",
      "text/plain": [
       "<Figure size 432x288 with 1 Axes>"
      ]
     },
     "metadata": {
      "needs_background": "light"
     },
     "output_type": "display_data"
    }
   ],
   "source": [
    "k = 2\n",
    "samples = []\n",
    "for _ in range(1000):\n",
    "    samples.extend(choice(x, k, False).numpy())\n",
    "plt.hist(samples)\n",
    "plt.xticks(range(x.numel()))\n",
    "plt.show()"
   ]
  },
  {
   "cell_type": "markdown",
   "metadata": {},
   "source": [
    "### CUDA Extension"
   ]
  },
  {
   "cell_type": "code",
   "execution_count": 32,
   "metadata": {},
   "outputs": [],
   "source": [
    "x = x.cuda()"
   ]
  },
  {
   "cell_type": "code",
   "execution_count": 33,
   "metadata": {},
   "outputs": [
    {
     "data": {
      "image/png": "[encoded data removed]",
      "text/plain": [
       "<Figure size 432x288 with 1 Axes>"
      ]
     },
     "metadata": {
      "needs_background": "light"
     },
     "output_type": "display_data"
    }
   ],
   "source": [
    "k = 8\n",
    "samples = []\n",
    "for _ in range(1000):\n",
    "    samples.extend(choice(x, k,True).cpu().numpy())\n",
    "plt.hist(samples)\n",
    "plt.xticks(range(x.numel()))\n",
    "plt.show()"
   ]
  },
  {
   "cell_type": "code",
   "execution_count": 34,
   "metadata": {},
   "outputs": [
    {
     "data": {
      "image/png": "[encoded data removed]",
      "text/plain": [
       "<Figure size 432x288 with 1 Axes>"
      ]
     },
     "metadata": {
      "needs_background": "light"
     },
     "output_type": "display_data"
    }
   ],
   "source": [
    "k = 8\n",
    "samples = []\n",
    "for _ in range(1000):\n",
    "    samples.extend(choice(x, k, False).cpu().numpy())\n",
    "plt.hist(samples)\n",
    "plt.xticks(range(x.numel()))\n",
    "plt.show()"
   ]
  },
  {
   "cell_type": "code",
   "execution_count": 35,
   "metadata": {},
   "outputs": [
    {
     "data": {
      "image/png": "[encoded data removed]",
      "text/plain": [
       "<Figure size 432x288 with 1 Axes>"
      ]
     },
     "metadata": {
      "needs_background": "light"
     },
     "output_type": "display_data"
    }
   ],
   "source": [
    "k = 2\n",
    "samples = []\n",
    "for _ in range(1000):\n",
    "    samples.extend(choice(x, k, True).cpu().numpy())\n",
    "plt.hist(samples)\n",
    "plt.xticks(range(x.numel()))\n",
    "plt.show()"
   ]
  },
  {
   "cell_type": "code",
   "execution_count": 36,
   "metadata": {},
   "outputs": [
    {
     "data": {
      "image/png": "[encoded data removed]",
      "text/plain": [
       "<Figure size 432x288 with 1 Axes>"
      ]
     },
     "metadata": {
      "needs_background": "light"
     },
     "output_type": "display_data"
    }
   ],
   "source": [
    "k = 2\n",
    "samples = []\n",
    "for _ in range(1000):\n",
    "    samples.extend(choice(x, k, False).cpu().numpy())\n",
    "plt.hist(samples)\n",
    "plt.xticks(range(x.numel()))\n",
    "plt.show()"
   ]
  },
  {
   "cell_type": "markdown",
   "metadata": {},
   "source": [
    "# Checking distributions - Weighted"
   ]
  },
  {
   "cell_type": "code",
   "execution_count": 37,
   "metadata": {},
   "outputs": [],
   "source": [
    "x = torch.arange(10)\n",
    "weights = torch.Tensor([1, 1, 5, 5, 5, 1, 7, 2, 2, 2]).float()"
   ]
  },
  {
   "cell_type": "markdown",
   "metadata": {},
   "source": [
    "### CPP Extension"
   ]
  },
  {
   "cell_type": "code",
   "execution_count": 38,
   "metadata": {},
   "outputs": [
    {
     "data": {
      "image/png": "[encoded data removed]",
      "text/plain": [
       "<Figure size 432x288 with 1 Axes>"
      ]
     },
     "metadata": {
      "needs_background": "light"
     },
     "output_type": "display_data"
    }
   ],
   "source": [
    "k = 1\n",
    "samples = []\n",
    "for _ in range(10000):\n",
    "    samples.extend(choice(x, k, True, weights).cpu().numpy())\n",
    "plt.hist(samples)\n",
    "plt.xticks(range(x.numel()))\n",
    "plt.show()"
   ]
  },
  {
   "cell_type": "code",
   "execution_count": 39,
   "metadata": {},
   "outputs": [
    {
     "data": {
      "image/png": "[encoded data removed]",
      "text/plain": [
       "<Figure size 432x288 with 1 Axes>"
      ]
     },
     "metadata": {
      "needs_background": "light"
     },
     "output_type": "display_data"
    }
   ],
   "source": [
    "k = 1\n",
    "samples = []\n",
    "for _ in range(10000):\n",
    "    samples.extend(choice(x, k, False, weights).cpu().numpy())\n",
    "plt.hist(samples)\n",
    "plt.xticks(range(x.numel()))\n",
    "plt.show()"
   ]
  },
  {
   "cell_type": "markdown",
   "metadata": {},
   "source": [
    "### CUDA Extension"
   ]
  },
  {
   "cell_type": "code",
   "execution_count": 40,
   "metadata": {},
   "outputs": [],
   "source": [
    "x = x.cuda()\n",
    "weights = weights.cuda()"
   ]
  },
  {
   "cell_type": "code",
   "execution_count": 41,
   "metadata": {},
   "outputs": [
    {
     "data": {
      "image/png": "[encoded data removed]",
      "text/plain": [
       "<Figure size 432x288 with 1 Axes>"
      ]
     },
     "metadata": {
      "needs_background": "light"
     },
     "output_type": "display_data"
    }
   ],
   "source": [
    "k = 1\n",
    "samples = []\n",
    "for _ in range(10000):\n",
    "    samples.extend(choice(x, k, True, weights).cpu().numpy())\n",
    "plt.hist(samples)\n",
    "plt.xticks(range(x.numel()))\n",
    "plt.show()"
   ]
  },
  {
   "cell_type": "code",
   "execution_count": 42,
   "metadata": {},
   "outputs": [
    {
     "data": {
      "image/png": "[encoded data removed]",
      "text/plain": [
       "<Figure size 432x288 with 1 Axes>"
      ]
     },
     "metadata": {
      "needs_background": "light"
     },
     "output_type": "display_data"
    }
   ],
   "source": [
    "k = 1\n",
    "samples = []\n",
    "for _ in range(10000):\n",
    "    samples.extend(choice(x, k, False, weights).cpu().numpy())\n",
    "plt.hist(samples)\n",
    "plt.xticks(range(x.numel()))\n",
    "plt.show()"
   ]
  }
 ],
 "metadata": {
  "kernelspec": {
   "display_name": "Python [conda env:detectron2]",
   "language": "python",
   "name": "conda-env-detectron2-py"
  },
  "language_info": {
   "codemirror_mode": {
    "name": "ipython",
    "version": 3
   },
   "file_extension": ".py",
   "mimetype": "text/x-python",
   "name": "python",
   "nbconvert_exporter": "python",
   "pygments_lexer": "ipython3",
   "version": "3.8.1"
  }
 },
 "nbformat": 4,
 "nbformat_minor": 2
}
